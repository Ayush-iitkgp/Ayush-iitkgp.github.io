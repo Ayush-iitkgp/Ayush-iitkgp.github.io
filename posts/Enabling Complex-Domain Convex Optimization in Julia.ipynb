<!-- 
.. title: ConvexOptimization
.. slug: convex-optimization
.. date: 
.. tags: 
.. category: 
.. link: 
.. description: 
.. type: text
-->
{
 "cells": [
  {
   "cell_type": "markdown",
   "metadata": {
    "slideshow": {
     "slide_type": "slide"
    }
   },
   "source": [
    "# Enabling Complex-Domain Convex Optimization in Julia\n",
    "\n",
    "## Ayush Pandey | JuliaCon 2016\n",
    "\n",
    "[https://github.com/Ayush-iitkgp/JuliaCon2016Presentation](https://github.com/Ayush-iitkgp/JuliaCon2016Presentation)"
   ]
  },
  {
   "cell_type": "markdown",
   "metadata": {
    "slideshow": {
     "slide_type": "subslide"
    }
   },
   "source": [
    "## About Me \n",
    "\n",
    "#### Integrated Master of Science student at IIT Kharagpur pursuing Mathematics and Computing Sciences\n",
    "\n",
    "#### GitHub - [https://github.com/ayush-iitkgp](https://github.com/ayush-iitkgp)\n",
    "\n",
    "#### Google Summer of Code - 2016 student under mentorship of Madeleine Udell and Dvijotham Krishnamurthy\n",
    "\n",
    "#### Blogging my GSoC'16 experience at [http://ayush-iitkgp.rhcloud.com](http://ayush-iitkgp.rhcloud.com/) \n",
    "\n",
    "<!--- ## CVX.jl team\n",
    "\n",
    "* [CVX.jl](https://github.com/cvxgrp/CVX.jl): Madeleine Udell, Karanveer Mohan, David Zeng, Jenny Hong\n",
    "<!---* [ParallelSparseMatMul.jl](https://github.com/madeleineudell/ParallelSparseMatMul.jl): Madeleine Udell\n",
    "--->"
   ]
  },
  {
   "cell_type": "markdown",
   "metadata": {
    "slideshow": {
     "slide_type": "slide"
    }
   },
   "source": [
    "# What is Convex Optimization?"
   ]
  },
  {
   "cell_type": "markdown",
   "metadata": {
    "slideshow": {
     "slide_type": "subslide"
    }
   },
   "source": [
    "### What is Convex function? \n",
    "$f$ is **convex** if for all $\\theta \\in [0,1]$\n",
    "$$\n",
    "f(\\theta x + (1-\\theta)y ) \\leq \\theta f(x) + (1-\\theta) f(y)\n",
    "$$\n",
    "\n",
    "equivalently, \n",
    "\n",
    "* $f$ has nonnegative (upward) curvature\n",
    "* $f'' \\geq 0$ (if $f$ is differentiable)\n",
    "* Geometrically, the line joining any 2 points on $f$ always lies above the graph of $f$\n",
    "\n",
    "<!---* sublevel sets $\\{x: f(x) \\leq \\alpha\\}$ are convex sets --->\n",
    "\n",
    "![chords](chord.png)\n",
    "\n",
    "**Note - A function is called affine iff it is both convex and concave.**"
   ]
  },
  {
   "cell_type": "markdown",
   "metadata": {
    "slideshow": {
     "slide_type": "subslide"
    }
   },
   "source": [
    "## What is Convex optimization ?\n",
    "\n",
    "### Functional Form\n",
    "\n",
    "$$\n",
    "\\begin{array}{ll} \n",
    "\\mbox{minimize}  & f_0(x) \\\\\n",
    "\\mbox{subject to} & f_i(x) \\leq 0, \\quad i=1, \\ldots, m_1\\\\\n",
    "& h_j(x) = 0, \\quad j=1, \\ldots, m_2\\\\\n",
    "\\end{array}\n",
    "$$\n",
    "\n",
    "* variable $x\\in \\mathbf{R}^n$\n",
    "* $f_i$ are all convex\n",
    "* $h_j$ are all affine\n",
    "\n",
    "**Note 1- If $x\\in \\mathbf{R}^n$ then we refer the problem as real-domain convex optimization and if $x\\in \\mathbf{C}^n$ then we refer it as complex-domain optimization problem. Also if the coefficients of the variablex are complex numbers then it is complex-doamin optimization problem.** \n",
    "\n",
    "**Note 2- It is important to note that if $x\\in \\mathbf{C}^n$ then we no longer have inequality constraint.**"
   ]
  },
  {
   "cell_type": "markdown",
   "metadata": {
    "slideshow": {
     "slide_type": "subslide"
    }
   },
   "source": [
    "## Why do we need another package if we have available solvers like SCS, Mosek?\n",
    "\n",
    "### Convex optimization (conic form)\n",
    "\n",
    "$$\n",
    "\\begin{array}{ll} \n",
    "\\mbox{minimize}  & c^T x \\\\\n",
    "    \\mbox{subject to} & Ax = b\\\\\n",
    "    & x \\in \\mathcal K\\\\\n",
    "\\end{array}\n",
    "$$\n",
    "\n",
    "where $\\mathcal K$ is a **convex cone**\n",
    "\n",
    "$$ x \\in \\mathcal K \\iff rx \\in \\mathcal K, \\quad \\forall r>0$$\n",
    "\n",
    "examples:\n",
    "\n",
    "* positive orthant \n",
    "\n",
    "$$\\mathcal K_+ = \\{x: x\\geq 0\\}$$\n",
    "    \n",
    "* second order cone \n",
    "\n",
    "$$\\mathcal K_{\\mathrm{SOC}} = \\{(x,t): \\|x\\|_2 \\leq t\\}$$\n",
    "    \n",
    "* semidefinite cone \n",
    "\n",
    "$$\\mathcal K_{\\mathrm{SDP}} = \\{X: X = X^T,~ v^T X v \\geq 0,~ \\forall v \\in \\mathbf{R}^n\\}$$"
   ]
  },
  {
   "cell_type": "markdown",
   "metadata": {
    "slideshow": {
     "slide_type": "subslide"
    }
   },
   "source": [
    "**Does the previous slide look complicated? It turns out that the above solvers only understand the conic form which is hard for us to write and this is the reason why we need a package for convex optimization where we can express our problem in functional form and let the package manage the difficult part of converting the problem to conic form.**"
   ]
  },
  {
   "cell_type": "markdown",
   "metadata": {
    "slideshow": {
     "slide_type": "slide"
    }
   },
   "source": [
    "# Quick Tutorial"
   ]
  },
  {
   "cell_type": "code",
   "execution_count": 3,
   "metadata": {
    "collapsed": false,
    "slideshow": {
     "slide_type": "fragment"
    }
   },
   "outputs": [
    {
     "name": "stderr",
     "output_type": "stream",
     "text": [
      "WARNING: Method definition ctranspose(Convex.Constant) in module Convex at /home/hduser/.julia/v0.5/Convex/src/atoms/affine/transpose.jl:73 overwritten at /home/hduser/.julia/v0.5/Convex/src/atoms/affine/transpose.jl:74.\n",
      "WARNING: Method definition norm(Convex.AbstractExpr, Symbol) in module Convex at /home/hduser/.julia/v0.5/Convex/src/atoms/norm.jl:45 overwritten at deprecated.jl:49.\n"
     ]
    }
   ],
   "source": [
    "using Convex"
   ]
  },
  {
   "cell_type": "markdown",
   "metadata": {
    "slideshow": {
     "slide_type": "subslide"
    }
   },
   "source": [
    "## Variables"
   ]
  },
  {
   "cell_type": "code",
   "execution_count": 4,
   "metadata": {
    "collapsed": false,
    "slideshow": {
     "slide_type": "fragment"
    }
   },
   "outputs": [
    {
     "data": {
      "text/plain": [
       "Variable of\n",
       "size: (4, 2)\n",
       "sign: Convex.NoSign()\n",
       "vexity: Convex.AffineVexity()"
      ]
     },
     "execution_count": 4,
     "metadata": {},
     "output_type": "execute_result"
    }
   ],
   "source": [
    "# Scalar variable\n",
    "x = Variable()\n",
    "# (Column) vector variable\n",
    "y = Variable(4)\n",
    "# Matrix variable\n",
    "z = Variable(4, 2)"
   ]
  },
  {
   "cell_type": "markdown",
   "metadata": {
    "slideshow": {
     "slide_type": "subslide"
    }
   },
   "source": [
    "# Expressions\n",
    "\n",
    "* We can operate on variables to form *convex expressions*"
   ]
  },
  {
   "cell_type": "code",
   "execution_count": 5,
   "metadata": {
    "collapsed": false,
    "slideshow": {
     "slide_type": "fragment"
    }
   },
   "outputs": [
    {
     "data": {
      "text/plain": [
       "AbstractExpr with\n",
       "head: geomean\n",
       "size: (1, 1)\n",
       "sign: Convex.Positive()\n",
       "vexity: Convex.ConcaveVexity()\n"
      ]
     },
     "execution_count": 5,
     "metadata": {},
     "output_type": "execute_result"
    }
   ],
   "source": [
    "# indexing, multiplication, addition\n",
    "e1 = y[1] + 2*x\n",
    "\n",
    "# expressions can be affine, convex, or concave\n",
    "e3 = sqrt(x)"
   ]
  },
  {
   "cell_type": "markdown",
   "metadata": {
    "slideshow": {
     "slide_type": "subslide"
    }
   },
   "source": [
    "# Constraints"
   ]
  },
  {
   "cell_type": "code",
   "execution_count": 6,
   "metadata": {
    "collapsed": false,
    "slideshow": {
     "slide_type": "fragment"
    }
   },
   "outputs": [
    {
     "data": {
      "text/plain": [
       "Constraint:\n",
       "== constraint\n",
       "lhs: AbstractExpr with\n",
       "head: *\n",
       "size: (3, 1)\n",
       "sign: Convex.NoSign()\n",
       "vexity: Convex.AffineVexity()\n",
       "\n",
       "rhs: [-1.6048077944321295,2.1044876445367,0.6535176954608789]\n",
       "vexity: Convex.AffineVexity()"
      ]
     },
     "execution_count": 6,
     "metadata": {},
     "output_type": "execute_result"
    }
   ],
   "source": [
    "# affine equality constraint\n",
    "A = randn(3,4); b = randn(3)\n",
    "constraint1 = A*y == b"
   ]
  },
  {
   "cell_type": "code",
   "execution_count": 8,
   "metadata": {
    "collapsed": false,
    "slideshow": {
     "slide_type": "fragment"
    }
   },
   "outputs": [
    {
     "data": {
      "text/plain": [
       "Constraint:\n",
       "<= constraint\n",
       "lhs: AbstractExpr with\n",
       "head: norm2\n",
       "size: (1, 1)\n",
       "sign: Convex.Positive()\n",
       "vexity: Convex.ConvexVexity()\n",
       "\n",
       "rhs: 2\n",
       "vexity: Convex.ConvexVexity()"
      ]
     },
     "execution_count": 8,
     "metadata": {},
     "output_type": "execute_result"
    }
   ],
   "source": [
    "# convex inequality constraint\n",
    "constraint2 = norm(y,2) <= 2"
   ]
  },
  {
   "cell_type": "markdown",
   "metadata": {
    "slideshow": {
     "slide_type": "subslide"
    }
   },
   "source": [
    "# Problems\n",
    "\n",
    "* Now let's combine the above 3 steps to define our problem"
   ]
  },
  {
   "cell_type": "code",
   "execution_count": 9,
   "metadata": {
    "collapsed": false,
    "slideshow": {
     "slide_type": "fragment"
    }
   },
   "outputs": [
    {
     "data": {
      "text/plain": [
       "Problem:\n",
       "minimize AbstractExpr with\n",
       "head: +\n",
       "size: (1, 1)\n",
       "sign: Convex.NoSign()\n",
       "vexity: Convex.ConvexVexity()\n",
       "\n",
       "subject to\n",
       "Constraint:\n",
       "== constraint\n",
       "lhs: AbstractExpr with\n",
       "head: *\n",
       "size: (3, 1)\n",
       "sign: Convex.NoSign()\n",
       "vexity: Convex.AffineVexity()\n",
       "\n",
       "rhs: [-1.6048077944321295,2.1044876445367,0.6535176954608789]\n",
       "vexity: Convex.AffineVexity()\n",
       "\t\tConstraint:\n",
       "<= constraint\n",
       "lhs: AbstractExpr with\n",
       "head: norm2\n",
       "size: (1, 1)\n",
       "sign: Convex.Positive()\n",
       "vexity: Convex.ConvexVexity()\n",
       "\n",
       "rhs: 2\n",
       "vexity: Convex.ConvexVexity()\n",
       "current status: not yet solved"
      ]
     },
     "execution_count": 9,
     "metadata": {},
     "output_type": "execute_result"
    }
   ],
   "source": [
    "objective = 2*x + 1 - sqrt(sum(y))\n",
    "p = minimize(objective, constraint1, constraint2)"
   ]
  },
  {
   "cell_type": "code",
   "execution_count": 10,
   "metadata": {
    "collapsed": false,
    "slideshow": {
     "slide_type": "subslide"
    }
   },
   "outputs": [
    {
     "name": "stdout",
     "output_type": "stream",
     "text": [
      "----------------------------------------------------------------------------\n",
      "\tSCS v1.1.8 - Splitting Conic Solver\n",
      "\t(c) Brendan O'Donoghue, Stanford University, 2012-2015\n",
      "----------------------------------------------------------------------------\n",
      "Lin-sys: sparse-direct, nnz in A = 34\n",
      "eps = 1.00e-04, alpha = 1.80, max_iters = 20000, normalize = 1, scale = 5.00\n",
      "Variables n = 8, constraints m = 15\n",
      "Cones:\tprimal zero / dual free vars: 4\n",
      "\tlinear vars: 3\n",
      "\tsoc vars: 8, soc blks: 2\n",
      "Setup time: 8.36e-05s\n",
      "----------------------------------------------------------------------------\n",
      " Iter | pri res | dua res | rel gap | pri obj | dua obj | kap/tau | time (s)\n",
      "----------------------------------------------------------------------------\n",
      "     0|      inf       inf      -nan      -inf       inf       inf  2.49e-05 \n",
      "    20|      inf       inf      -nan      -inf      -inf       inf  5.35e-05 \n",
      "----------------------------------------------------------------------------\n",
      "Status: Unbounded\n",
      "Timing: Solve time: 5.92e-05s\n",
      "\tLin-sys: nnz in L factor: 69, avg solve time: 6.34e-07s\n",
      "\tCones: avg projection time: 2.07e-07s\n",
      "----------------------------------------------------------------------------\n",
      "Certificate of dual infeasibility:\n",
      "dist(s, K) = 8.2611e-21\n",
      "|Ax + s|_2 * |c|_2 = 2.3690e-06\n",
      "c'x = -1.0000\n",
      "============================================================================\n"
     ]
    },
    {
     "name": "stderr",
     "output_type": "stream",
     "text": [
      "WARNING: Problem status Unbounded; solution may be inaccurate.\n"
     ]
    },
    {
     "data": {
      "text/plain": [
       "Problem:\n",
       "minimize AbstractExpr with\n",
       "head: +\n",
       "size: (1, 1)\n",
       "sign: Convex.NoSign()\n",
       "vexity: Convex.ConvexVexity()\n",
       "\n",
       "subject to\n",
       "Constraint:\n",
       "== constraint\n",
       "lhs: AbstractExpr with\n",
       "head: *\n",
       "size: (3, 1)\n",
       "sign: Convex.NoSign()\n",
       "vexity: Convex.AffineVexity()\n",
       "\n",
       "rhs: [-1.6048077944321295,2.1044876445367,0.6535176954608789]\n",
       "vexity: Convex.AffineVexity()\n",
       "\t\tConstraint:\n",
       "<= constraint\n",
       "lhs: AbstractExpr with\n",
       "head: norm2\n",
       "size: (1, 1)\n",
       "sign: Convex.Positive()\n",
       "vexity: Convex.ConvexVexity()\n",
       "\n",
       "rhs: 2\n",
       "vexity: Convex.ConvexVexity()\n",
       "current status: Unbounded"
      ]
     },
     "execution_count": 10,
     "metadata": {},
     "output_type": "execute_result"
    }
   ],
   "source": [
    "# solve the problem\n",
    "solve!(p)\n",
    "p"
   ]
  },
  {
   "cell_type": "code",
   "execution_count": 11,
   "metadata": {
    "collapsed": false,
    "scrolled": false,
    "slideshow": {
     "slide_type": "subslide"
    }
   },
   "outputs": [
    {
     "data": {
      "text/plain": [
       "-0.9999999999999999"
      ]
     },
     "execution_count": 11,
     "metadata": {},
     "output_type": "execute_result"
    }
   ],
   "source": [
    "p.optval"
   ]
  },
  {
   "cell_type": "code",
   "execution_count": 12,
   "metadata": {
    "collapsed": false,
    "slideshow": {
     "slide_type": "fragment"
    }
   },
   "outputs": [
    {
     "data": {
      "text/plain": [
       "-0.49999943073238445"
      ]
     },
     "execution_count": 12,
     "metadata": {},
     "output_type": "execute_result"
    }
   ],
   "source": [
    "x.value"
   ]
  },
  {
   "cell_type": "markdown",
   "metadata": {
    "slideshow": {
     "slide_type": "slide"
    }
   },
   "source": [
    "# Why do we need complex-domain optimization convex package?"
   ]
  },
  {
   "cell_type": "markdown",
   "metadata": {
    "slideshow": {
     "slide_type": "subslide"
    }
   },
   "source": [
    "## Applicationf of complex-domain convex optimization\n",
    "\n",
    "1. **Phase retreival from sparse signals** used in MRI Imaging of the Brain\n",
    "\n",
    "**Mathematical Formulation**\n",
    "\n",
    "*find x*\n",
    "\n",
    "*satisfying A(x) = A($x_0$) = b*\n",
    "\n",
    "*where $x_0$ in $x\\in \\mathbf{C}^n$*\n",
    "\n",
    "*A($x_0$) = {|$<a_k, x_0>$|^2 : k = 1, 2, . . . , m }*\n",
    "\n",
    "![MRI Imaging](Brain_MRI.jpg)\n"
   ]
  },
  {
   "cell_type": "markdown",
   "metadata": {
    "slideshow": {
     "slide_type": "subslide"
    }
   },
   "source": [
    "**Used in demodulation of the mutually interfering digital streams of information** that occur in areas such as wireless communications, high-speed data transmission, DSL, satellite communication, digital television, and magnetic recording. \n",
    "\n",
    "Here the problem is detecting interference between multiple users in a wireless communication network.\n",
    "\n",
    "![Wireless Communication](wirelesscommunication.jpg)"
   ]
  },
  {
   "cell_type": "markdown",
   "metadata": {
    "slideshow": {
     "slide_type": "subslide"
    }
   },
   "source": [
    "**Optimization in power grids**: The problem of finding the most efficient dispatch of generators in a power grid subject to meeting the demand for power and respecting network constraints. Here the complex variable x represents steady-state voltages in an AC power network.\n",
    "\n",
    "Here one of the variables which represents steady-state voltages in an AC power network is a complex variable so it again becomes complex-domain optimization problem.\n",
    "\n",
    "\n",
    "![Power Grids](powergrid.jpg)"
   ]
  },
  {
   "cell_type": "markdown",
   "metadata": {
    "slideshow": {
     "slide_type": "slide"
    }
   },
   "source": [
    "# How Convex.jl handles the complex-domain optimization problem?"
   ]
  },
  {
   "cell_type": "markdown",
   "metadata": {
    "slideshow": {
     "slide_type": "subslide"
    }
   },
   "source": [
    "## Things to keep in mind\n",
    "\n",
    "* The objective function must be real\n",
    "* The inequality constraints must be real\n",
    "* The last entry of the Second Order Conic Constraint must be real.\n",
    "* All variables in exponential cones must be real."
   ]
  },
  {
   "cell_type": "code",
   "execution_count": null,
   "metadata": {
    "collapsed": true,
    "slideshow": {
     "slide_type": "subslide"
    }
   },
   "outputs": [],
   "source": [
    "A complex equality constraint could be transfored to corresponding 2 equality constraints."
   ]
  },
  {
   "cell_type": "markdown",
   "metadata": {
    "slideshow": {
     "slide_type": "slide"
    }
   },
   "source": [
    "# My Work\n",
    "\n",
    "I have started with implemeting the support for complex coefficients which means we keep the variable (say x) as real but the coefficients as complex. "
   ]
  },
  {
   "cell_type": "code",
   "execution_count": 2,
   "metadata": {
    "collapsed": false,
    "slideshow": {
     "slide_type": "fragment"
    }
   },
   "outputs": [
    {
     "data": {
      "text/plain": [
       "Variable of\n",
       "size: (1, 1)\n",
       "sign: Convex.NoSign()\n",
       "vexity: Convex.AffineVexity()"
      ]
     },
     "execution_count": 2,
     "metadata": {},
     "output_type": "execute_result"
    }
   ],
   "source": [
    "# Creating a real variable\n",
    "using Convex\n",
    "x = Variable()"
   ]
  },
  {
   "cell_type": "code",
   "execution_count": 3,
   "metadata": {
    "collapsed": false,
    "slideshow": {
     "slide_type": "fragment"
    }
   },
   "outputs": [
    {
     "data": {
      "text/plain": [
       "AbstractExpr with\n",
       "head: *\n",
       "size: (1, 1)\n",
       "sign: Convex.NoSign()\n",
       "vexity: Convex.AffineVexity()\n"
      ]
     },
     "execution_count": 3,
     "metadata": {},
     "output_type": "execute_result"
    }
   ],
   "source": [
    "# Creating an objective function\n",
    "objective = 2*x"
   ]
  },
  {
   "cell_type": "code",
   "execution_count": 4,
   "metadata": {
    "collapsed": false,
    "slideshow": {
     "slide_type": "fragment"
    }
   },
   "outputs": [
    {
     "data": {
      "text/plain": [
       "Constraint:\n",
       "<= constraint\n",
       "lhs: Variable of\n",
       "size: (1, 1)\n",
       "sign: Convex.NoSign()\n",
       "vexity: Convex.AffineVexity()\n",
       "rhs: 5\n",
       "vexity: Convex.AffineVexity()"
      ]
     },
     "execution_count": 4,
     "metadata": {},
     "output_type": "execute_result"
    }
   ],
   "source": [
    "# Creating complex equality constraints\n",
    "c1 = (2+3im)*x == (6+9im)\n",
    "c2 = x<=5"
   ]
  },
  {
   "cell_type": "code",
   "execution_count": 5,
   "metadata": {
    "collapsed": false,
    "slideshow": {
     "slide_type": "subslide"
    }
   },
   "outputs": [
    {
     "data": {
      "text/plain": [
       "Problem:\n",
       "minimize AbstractExpr with\n",
       "head: *\n",
       "size: (1, 1)\n",
       "sign: Convex.NoSign()\n",
       "vexity: Convex.AffineVexity()\n",
       "\n",
       "subject to\n",
       "Constraint:\n",
       "== constraint\n",
       "lhs: AbstractExpr with\n",
       "head: *\n",
       "size: (1, 1)\n",
       "sign: Convex.ComplexSign()\n",
       "vexity: Convex.AffineVexity()\n",
       "\n",
       "rhs: 6 + 9im\n",
       "vexity: Convex.AffineVexity()\n",
       "\t\tConstraint:\n",
       "<= constraint\n",
       "lhs: Variable of\n",
       "size: (1, 1)\n",
       "sign: Convex.NoSign()\n",
       "vexity: Convex.AffineVexity()\n",
       "rhs: 5\n",
       "vexity: Convex.AffineVexity()\n",
       "current status: not yet solved"
      ]
     },
     "execution_count": 5,
     "metadata": {},
     "output_type": "execute_result"
    }
   ],
   "source": [
    "p = minimize(objective, c1, c2)"
   ]
  },
  {
   "cell_type": "code",
   "execution_count": 9,
   "metadata": {
    "collapsed": false,
    "slideshow": {
     "slide_type": "subslide"
    }
   },
   "outputs": [
    {
     "name": "stdout",
     "output_type": "stream",
     "text": [
      "----------------------------------------------------------------------------\n",
      "\tSCS v1.1.8 - Splitting Conic Solver\n",
      "\t(c) Brendan O'Donoghue, Stanford University, 2012-2015\n",
      "----------------------------------------------------------------------------\n",
      "Lin-sys: sparse-direct, nnz in A = 5\n",
      "eps = 1.00e-04, alpha = 1.80, max_iters = 20000, normalize = 1, scale = 5.00\n",
      "Variables n = 2, constraints m = 4\n",
      "Cones:\tprimal zero / dual free vars: 3\n",
      "\tlinear vars: 1\n",
      "Setup time: 5.35e-05s\n",
      "----------------------------------------------------------------------------\n",
      " Iter | pri res | dua res | rel gap | pri obj | dua obj | kap/tau | time (s)\n",
      "----------------------------------------------------------------------------\n",
      "     0|      inf       inf      -nan       inf      -inf       inf  2.26e-05 \n",
      "    60| 7.69e-06  5.72e-05  3.14e-05  6.00e+00  6.00e+00  9.46e-17  1.02e-04 \n",
      "----------------------------------------------------------------------------\n",
      "Status: Solved\n",
      "Timing: Solve time: 1.04e-04s\n",
      "\tLin-sys: nnz in L factor: 11, avg solve time: 3.59e-07s\n",
      "\tCones: avg projection time: 1.99e-07s\n",
      "----------------------------------------------------------------------------\n",
      "Error metrics:\n",
      "dist(s, K) = 1.0750e-16, dist(y, K*) = 0.0000e+00, s'y/m = 2.9317e-17\n",
      "|Ax + s - b|_2 / (1 + |b|_2) = 7.6946e-06\n",
      "|A'y + c|_2 / (1 + |c|_2) = 5.7200e-05\n",
      "|c'x + b'y| / (1 + |c'x| + |b'y|) = 3.1364e-05\n",
      "----------------------------------------------------------------------------\n",
      "c'x = 5.9999, -b'y = 6.0003\n",
      "============================================================================\n"
     ]
    },
    {
     "data": {
      "text/plain": [
       "5.999939822156568"
      ]
     },
     "execution_count": 9,
     "metadata": {},
     "output_type": "execute_result"
    }
   ],
   "source": [
    "solve!(p,verbose=false)\n",
    "x.value\n",
    "p.optval\n",
    "\n",
    "# Solution\n",
    "# x.value = 3.0001651341687965\n",
    "# p.optval = 6.000269523275286\n",
    "\n"
   ]
  },
  {
   "cell_type": "markdown",
   "metadata": {
    "slideshow": {
     "slide_type": "slide"
    }
   },
   "source": [
    "# Future work\n",
    "\n",
    "* Implementing complex variables\n",
    "* Implemeting Complex SemiDefinite Programming"
   ]
  },
  {
   "cell_type": "markdown",
   "metadata": {
    "slideshow": {
     "slide_type": "slide"
    }
   },
   "source": [
    "# Questions"
   ]
  }
 ],
 "metadata": {
  "celltoolbar": "Slideshow",
  "kernelspec": {
   "display_name": "Julia 0.5.0-dev",
   "language": "julia",
   "name": "julia-0.5"
  },
  "language_info": {
   "file_extension": ".jl",
   "mimetype": "application/julia",
   "name": "julia",
   "version": "0.5.0"
  }
 },
 "nbformat": 4,
 "nbformat_minor": 0
}
